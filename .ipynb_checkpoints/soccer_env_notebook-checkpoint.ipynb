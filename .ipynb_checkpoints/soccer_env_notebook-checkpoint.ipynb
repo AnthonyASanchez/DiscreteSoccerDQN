{
 "cells": [
  {
   "cell_type": "code",
   "execution_count": 1,
   "metadata": {
    "collapsed": true
   },
   "outputs": [],
   "source": [
    "from PIL import Image, ImageDraw\n",
    "import numpy as np\n",
    "import random"
   ]
  },
  {
   "cell_type": "code",
   "execution_count": 2,
   "metadata": {
    "collapsed": true
   },
   "outputs": [],
   "source": [
    "class gameObj():\n",
    "    def __init__(self,name,position,reward,has_ball):\n",
    "        self.x = position[0]\n",
    "        self.y = position[1]\n",
    "        self.reward = reward\n",
    "        self.name = name\n",
    "        self.has_ball = has_ball\n",
    "    def changeObj(self,name,position,reward):\n",
    "        self.x = position[0]\n",
    "        self.y = position[1]\n",
    "        self.reward = reward\n",
    "        self.name = name\n",
    "    def getName(self):\n",
    "        return self.name\n",
    "    def getCoor(self):\n",
    "        return(self.x,self.y)\n",
    "    def printCoor(self):\n",
    "        return str(self.x) + \", \"+ str(self.y)\n",
    "    def removeBall(self):\n",
    "        self.has_ball=False\n",
    "    def receiveBall(self):\n",
    "         self.has_ball=True   \n",
    "    #def drawSelf(self):\n",
    "    #    if name is \"Goal\":\n",
    "    #        self.draw_info= \n",
    "    ##    elif name is \"Player\":\n",
    "     #       self.draw_info= \n",
    "     #   elif name is \"Enemy\":\n",
    "     #       self.draw_info=\n",
    "     #   else:\n",
    "     #       self.draw_info=\n",
    "        \n",
    "#class gamePlayer(gameObj):\n",
    "#    def __init__(self,name,position,reward,has_ball):\n",
    "#        super().__init__(name,position,reward)\n",
    "##        self.has_ball=has_ball\n",
    " #   def removeBall(self):\n",
    " #       self.has_ball=False\n",
    " #   def receiveBall(self):\n",
    " #       self.has_ball=True"
   ]
  },
  {
   "cell_type": "code",
   "execution_count": 283,
   "metadata": {},
   "outputs": [],
   "source": [
    "class gameEnv():\n",
    "    def __init__(self,image_size,user_bots):\n",
    "        #Initialization of the grid length, and width which will be used to keep track of game state\n",
    "        self.grid_length = (user_bots*2)\n",
    "        self.grid_width = user_bots\n",
    "        #Image size, biffer will be used for drawing on Canvas with draw object\n",
    "        self.image_size=image_size\n",
    "        self.x_buffer=image_size/user_bots\n",
    "        self.y_buffer=image_size/(user_bots * 2)\n",
    "        self.canvas=Image.new('RGB',(self.image_size,self.image_size),(155,155,155))\n",
    "        self.draw=ImageDraw.Draw(self.canvas)\n",
    "        #Used at the start of the game and to reset when game is finished\n",
    "        self.reset()\n",
    "        \n",
    "    def reset(self):\n",
    "        #This sets the object grid, which contains the name, coordinates,and reward of each game object (enemy, player, goal, or space)\n",
    "        self.object_grid=[[gameObj(\"Space\",[j,i],0,False) for j in range(self.grid_width)] for i in range(self.grid_length)]\n",
    "        self.setupGoal()\n",
    "        self.setupEnemy()\n",
    "        self.setupPlayer()\n",
    "        self.game_over=False\n",
    "        \n",
    "    def setupGoal(self):\n",
    "        #Fill in the goal which is always placed on the top row\n",
    "        for i in range(self.grid_width):\n",
    "            #The coordinates are switched with object_grid(row,col) and gameObj(x,y)\n",
    "            self.object_grid[0][i]=gameObj(\"Goal\",(i,0),1,False)\n",
    "        \n",
    "    def setupEnemy(self):\n",
    "        #Fill grid with enemies, switch variable used for randomness in spawning of enemies\n",
    "        switch=random.randint(0,1)\n",
    "        for i in range(self.grid_width-1):\n",
    "            #The coordinates are switched with object_grid(row,col) and gameObj(x,y)\n",
    "            self.object_grid[i+1][i+switch]=gameObj(\"Enemy\",(i+switch,i+1),-1,False)\n",
    "            \n",
    "    def setupPlayer(self):\n",
    "        #Setting up player, using random number to decide who has the ball\n",
    "        self.players=[]\n",
    "        receive_ball=random.randint(0,self.grid_width-1)\n",
    "        has_ball=False\n",
    "        self.ball_coor = (-1,-1)\n",
    "        for i in range(self.grid_width):\n",
    "            if i == receive_ball:\n",
    "                has_ball=True\n",
    "            #The coordinates are switched with object_grid(row,col) and gameObj(x,y)\n",
    "            self.object_grid[self.grid_length-1][i]=gameObj(\"Player\",(i,self.grid_length-1),0,has_ball)\n",
    "            has_ball=False\n",
    "    def swapForward(self,x,y):\n",
    "        #Swapping places of gameObj and coordinates, create new gameObj to pass by value\n",
    "        temp=self.object_grid[y][x]\n",
    "        temp2=self.object_grid[y-1][x]\n",
    "        self.object_grid[y][x]=gameObj(temp2.name,(temp2.x,temp2.y),temp2.reward,temp2.has_ball)\n",
    "        self.object_grid[y-1][x]=gameObj(temp.name,(temp.x,temp.y),temp.reward,temp.has_ball)\n",
    "        self.object_grid[y-1][x].y-=1\n",
    "        self.object_grid[y][x].y+=1\n",
    "        \n",
    "    def swapDown(self,x,y):\n",
    "         #Swapping places of gameObj and coordinates, create new gameObj to pass by value\n",
    "        temp=self.object_grid[y][x]\n",
    "        temp2=self.object_grid[y+1][x]\n",
    "        self.object_grid[y][x]=gameObj(temp2.name,(temp2.x,temp2.y),temp2.reward,temp2.has_ball)\n",
    "        self.object_grid[y+1][x]=gameObj(temp.name,(temp.x,temp.y),temp.reward,temp.has_ball)\n",
    "        self.object_grid[y+1][x].y+=1\n",
    "        self.object_grid[y][x].y-=1\n",
    "            \n",
    "    def passLeft(self,x,y):\n",
    "        #Removes the ball from who ever is passing\n",
    "        self.object_grid[y][x].removeBall()\n",
    "        left_list = self.object_grid[y]\n",
    "        #Iterates to the left of it looking for a player to pass .\n",
    "        for i in range(x-1,-1,-1):\n",
    "            if self.object_grid[y][i].name == \"Player\":\n",
    "                self.object_grid[y][i].has_ball=True\n",
    "                return\n",
    "    def passRight(self,x,y):\n",
    "        #Removes the ball from who ever is passing.\n",
    "        self.object_grid[y][x].removeBall()\n",
    "        left_list = self.object_grid[y]\n",
    "        #Iterates to the right of it looking for a player to pass to.\n",
    "        for i in range(x+1,self.grid_width):\n",
    "            if self.object_grid[y][i].name == \"Player\":\n",
    "                self.object_grid[y][i].has_ball=True\n",
    "                return\n",
    "    def shoot(self,x,y):\n",
    "        #Removes ball from bot that is shooting.\n",
    "        self.object_grid[y][x].removeBall()\n",
    "        #Iterates up the row to shoot ball.\n",
    "        for i in range(y-1,y-self.grid_width-1,-1):\n",
    "            if self.object_grid[i][x].name is not \"Space\":\n",
    "                self.object_grid[i][x].has_ball=True\n",
    "                return\n",
    "            if i == y-self.grid_width:\n",
    "                self.object_grid[i][x].has_ball=True\n",
    "                return\n",
    "    \n",
    "    def playerTurn(self):\n",
    "        bot=-1\n",
    "        action=-1\n",
    "        #Requesting which bot to use\n",
    "        while(bot<0 or bot>self.grid_width-1):\n",
    "            print(\"Note:  bots start at 0\")\n",
    "            bot=int(input(\"Please select a bot (Will request again if less than 0 or greater then number of bots)\"))\n",
    "        #Requesting which action to take\n",
    "        while(action<0 or action>4):\n",
    "            print(\"Note:  actions up[0], down[1], pass_left[2], pass_right[3], shoot[4]\")\n",
    "            action=int(input(\"Please select an action (will request again if less than 0 or greater then number of actions)\"))\n",
    "            \n",
    "        for row in range(self.grid_length):\n",
    "            for col in self.object_grid[row]:\n",
    "                if col.name is \"Player\" and col.x == bot:\n",
    "                    #Checks if the bot is moving within bounds of its playing field\n",
    "                    if action == 0 and col.y > (self.grid_length - self.grid_width):\n",
    "                        #Swapping places of gameObj and coordinates, create new gameObj to pass by value\n",
    "                        #temp=self.object_grid[col.y][col.x]\n",
    "                        #temp2=self.object_grid[col.y-1][col.x]\n",
    "                        #self.object_grid[col.y][col.x]=gameObj(temp2.name,(temp2.x,temp2.y),temp2.reward,temp2.has_ball)\n",
    "                        #self.object_grid[col.y-1][col.x]=gameObj(temp.name,(temp.x,temp.y),temp.reward,temp.has_ball)\n",
    "                        #self.object_grid[col.y-1][col.x].y-=1\n",
    "                        #self.object_grid[col.y][col.x].y+=1\n",
    "                        self.swapForward(col.x,col.y)\n",
    "                        return\n",
    "                    elif action == 1 and col.y < self.grid_length-1:\n",
    "                         #Swapping places of gameObj and coordinates, create new gameObj to pass by value\n",
    "                        #temp=self.object_grid[col.y][col.x]\n",
    "                        #temp2=self.object_grid[col.y+1][col.x]\n",
    "                        #self.object_grid[col.y][col.x]=gameObj(temp2.name,(temp2.x,temp2.y),temp2.reward,temp2.has_ball)\n",
    "                        #self.object_grid[col.y+1][col.x]=gameObj(temp.name,(temp.x,temp.y),temp.reward,temp.has_ball)\n",
    "                        #self.object_grid[col.y+1][col.x].y+=1\n",
    "                        #self.object_grid[col.y][col.x].y-=1\n",
    "                        self.swapDown(col.x,col.y)\n",
    "                        return\n",
    "                    elif action == 2:\n",
    "                        #Removes the ball from who ever is passing\n",
    "                        #self.object_grid[col.y][col.x].removeBall()\n",
    "                        #left_list = self.object_grid[col.y]\n",
    "                        #Iterates to the left of it looking for a player to pass .\n",
    "                        #for i in range(col.x-1,-1,-1):\n",
    "                        #    if self.object_grid[col.y][i].name == \"Player\":\n",
    "                        #        self.object_grid[col.y][i].has_ball=True\n",
    "                        self.passLeft(col.x,col.y)\n",
    "                        return\n",
    "                    elif action == 3:\n",
    "                        #Removes the ball from who ever is passing.\n",
    "                        #self.object_grid[col.y][col.x].removeBall()\n",
    "                        #left_list = self.object_grid[col.y]\n",
    "                        #Iterates to the right of it looking for a player to pass to.\n",
    "                        #for i in range(col.x+1,self.grid_width):\n",
    "                        #    if self.object_grid[col.y][i].name == \"Player\":\n",
    "                        #        self.object_grid[col.y][i].has_ball=True\n",
    "                        self.passRight(col.x,col.y)\n",
    "                        return\n",
    "                    elif action == 4:\n",
    "                        #Removes ball from bot that is shooting.\n",
    "                        #self.object_grid[col.y][col.x].removeBall()\n",
    "                        #Iterates up the row to shoot ball.\n",
    "                        #for i in range(col.y-1,col.y-self.grid_width-1,-1):\n",
    "                        #    if self.object_grid[i][col.x].name is not \"Space\":\n",
    "                        #        self.object_grid[i][col.x].has_ball=True\n",
    "                        #        return\n",
    "                        #    if i == col.y-self.grid_width:\n",
    "                        #        self.object_grid[i][col.x].has_ball=True\n",
    "                        self.shoot(col.x,col.y)\n",
    "                        return\n",
    "    def moveRight(self,x,y):\n",
    "        #Swapping places of gameObj and coordinates, create new gameObj to pass by value\n",
    "        temp=self.object_grid[y][x]\n",
    "        temp2=self.object_grid[y][x+1]\n",
    "        self.object_grid[y][x]=gameObj(temp2.name,(temp2.x,temp2.y),temp2.reward,temp2.has_ball)\n",
    "        self.object_grid[y][x+1]=gameObj(temp.name,(temp.x,temp.y),temp.reward,temp.has_ball)\n",
    "        self.object_grid[y][x+1].x+=1\n",
    "        self.object_grid[y][x].x-=1\n",
    "    \n",
    "    def moveLeft(self,x,y):\n",
    "        #Swapping places of gameObj and coordinates, create new gameObj to pass by value\n",
    "        temp=self.object_grid[y][x]\n",
    "        temp2=self.object_grid[y][x-1]\n",
    "        self.object_grid[y][x]=gameObj(temp2.name,(temp2.x,temp2.y),temp2.reward,temp2.has_ball)\n",
    "        self.object_grid[y][x-1]=gameObj(temp.name,(temp.x,temp.y),temp.reward,temp.has_ball)\n",
    "        self.object_grid[y][x-1].x-=1\n",
    "        self.object_grid[y][x].x+=1\n",
    "            \n",
    "    \n",
    "    def enemyTurn(self):\n",
    "        #Finds ball coordinates\n",
    "        x,y=(-1,-1)\n",
    "        for row in range(self.grid_length):\n",
    "            for col in self.object_grid[row]:\n",
    "                if col.has_ball and col.name is \"Player\":\n",
    "                    x,y=col.getCoor()\n",
    "        #No player has the ball\n",
    "        if x == -1:\n",
    "            return\n",
    "        #Moves the enemy on right to the left, doesn't check if the ball is on the edge of the grid\n",
    "        if x != self.grid_width-1:\n",
    "            for row in range(y,0,-1):\n",
    "                if self.object_grid[row][x+1].name == \"Enemy\":\n",
    "                    self.moveLeft(x+1,row)\n",
    "                    return\n",
    "        #Moves the enemy on left to the right, doesn't check if the ball is on the edge of the grid           \n",
    "        if x != 0:\n",
    "            for row in range(y,0,-1):\n",
    "                if self.object_grid[row][x-1].name == \"Enemy\":\n",
    "                    self.moveRight(x-1,row)\n",
    "                    return\n",
    "                    \n",
    "    \n",
    "    \n",
    "    def getReward(self):\n",
    "        #Checks where the ball is and returns the reward of where it is.\n",
    "        #If the ball is no longer held by the player the game_over = True and reward is used.\n",
    "        for row in range(self.grid_length):\n",
    "            for col in self.object_grid[row]:\n",
    "                if col.has_ball and col.name is not \"Player\":\n",
    "                    self.game_over=True\n",
    "                    return col.reward\n",
    "                elif col.has_ball and col.name is \"Player\":\n",
    "                    return col.reward\n",
    "        self.game_over=True\n",
    "        return col.reward\n",
    "        \n",
    "                           \n",
    "                        \n",
    "                        \n",
    "    def drawGridState(self):\n",
    "        #Draws on the canvas the state of the object_grid, changing colors for each object.\n",
    "        for row in range(self.grid_length):\n",
    "            for col in self.object_grid[row]:\n",
    "                name=col.name\n",
    "                x,y=col.getCoor()\n",
    "                x=x*self.x_buffer\n",
    "                y=y*self.y_buffer                \n",
    "                if name is \"Goal\":\n",
    "                    self.draw.rectangle([x,y,x+self.x_buffer,y+self.y_buffer],fill=(120,250,0),outline=1)\n",
    "                elif name is \"Player\":\n",
    "                    self.draw.rectangle([x,y,x+self.x_buffer,y+self.y_buffer],fill=(135,200,235),outline=1)\n",
    "                elif name is \"Enemy\":\n",
    "                    self.draw.rectangle([x,y,x+self.x_buffer,y+self.y_buffer],fill=(178,34,34),outline=1)\n",
    "                else:\n",
    "                    self.draw.rectangle([x,y,x+self.x_buffer,y+self.y_buffer],fill=(255,255,255),outline=1)\n",
    "                #Checking who has the ball and drawing it\n",
    "                has_ball = col.has_ball\n",
    "                if has_ball:\n",
    "                    #Rounding off the ball to look nice :)\n",
    "                    self.draw.ellipse([x + (self.x_buffer/4),y + (self.y_buffer/10),x+self.x_buffer - (self.x_buffer/4),y+self.y_buffer - (self.y_buffer/10)],fill=(0,0,0),outline=1)\n",
    "                    \n",
    "    \n",
    "    def printGridState(self):\n",
    "        #Prints the grid names\n",
    "        row=\"\"\n",
    "        for i in range(self.grid_length):\n",
    "            for s in self.object_grid[i]:\n",
    "                row=row+ '{:10}'.format(s.name)\n",
    "            print(row)\n",
    "            print(\"\")\n",
    "            row=\"\"\n",
    "        "
   ]
  },
  {
   "cell_type": "code",
   "execution_count": 284,
   "metadata": {},
   "outputs": [
    {
     "data": {
      "image/png": "[encoded data removed]",
      "text/plain": [
       "<PIL.Image.Image image mode=RGB size=200x200 at 0x191008BA080>"
      ]
     },
     "execution_count": 284,
     "metadata": {},
     "output_type": "execute_result"
    }
   ],
   "source": [
    "env = gameEnv(200,4)\n",
    "env.drawGridState()\n",
    "#env.enemyTurn()\n",
    "env.canvas"
   ]
  },
  {
   "cell_type": "code",
   "execution_count": 290,
   "metadata": {},
   "outputs": [
    {
     "name": "stdout",
     "output_type": "stream",
     "text": [
      "Note:  bots start at 0\n",
      "Please select a bot (Will request again if less than 0 or greater then number of bots)2\n",
      "Note:  actions up[0], down[1], pass_left[2], pass_right[3], shoot[4]\n",
      "Please select an action (will request again if less than 0 or greater then number of actions)3\n"
     ]
    },
    {
     "data": {
      "image/png": "[encoded data removed]",
      "text/plain": [
       "<PIL.Image.Image image mode=RGB size=200x200 at 0x191008BA080>"
      ]
     },
     "execution_count": 290,
     "metadata": {},
     "output_type": "execute_result"
    }
   ],
   "source": [
    "env.playerTurn()\n",
    "env.enemyTurn()\n",
    "env.drawGridState()\n",
    "env.canvas"
   ]
  },
  {
   "cell_type": "code",
   "execution_count": 279,
   "metadata": {},
   "outputs": [
    {
     "name": "stdout",
     "output_type": "stream",
     "text": [
      "Goal      Goal      Goal      \n",
      "\n",
      "Space     Enemy     Space     \n",
      "\n",
      "Space     Enemy     Space     \n",
      "\n",
      "Space     Space     Space     \n",
      "\n",
      "Player    Space     Space     \n",
      "\n",
      "Space     Player    Player    \n",
      "\n"
     ]
    },
    {
     "data": {
      "image/png": "[encoded data removed]",
      "text/plain": [
       "<PIL.Image.Image image mode=RGB size=200x200 at 0x191008BA208>"
      ]
     },
     "execution_count": 279,
     "metadata": {},
     "output_type": "execute_result"
    }
   ],
   "source": [
    "#env.playerTurn()\n",
    "env.printGridState()\n",
    "#env.enemyTurn()\n",
    "env.canvas"
   ]
  },
  {
   "cell_type": "code",
   "execution_count": 165,
   "metadata": {},
   "outputs": [
    {
     "data": {
      "text/plain": [
       "(1, 5)"
      ]
     },
     "execution_count": 165,
     "metadata": {},
     "output_type": "execute_result"
    }
   ],
   "source": [
    "env.ball_coor"
   ]
  },
  {
   "cell_type": "code",
   "execution_count": 155,
   "metadata": {},
   "outputs": [
    {
     "name": "stdout",
     "output_type": "stream",
     "text": [
      "0\n"
     ]
    },
    {
     "data": {
      "text/plain": [
       "False"
      ]
     },
     "execution_count": 155,
     "metadata": {},
     "output_type": "execute_result"
    }
   ],
   "source": [
    "l = env.getReward()\n",
    "print(l)\n",
    "env.game_over"
   ]
  },
  {
   "cell_type": "code",
   "execution_count": 146,
   "metadata": {},
   "outputs": [
    {
     "name": "stdout",
     "output_type": "stream",
     "text": [
      "Note:  bots start at 0\n",
      "Please select a bot (Will request again if less than 0 or greater then number of bots)1\n",
      "Note:  actions up[0], down[1], pass_left[2], pass_right[3], shoot[4]\n",
      "Please select an action (will request again if less than 0 or greater then number of actions)0\n",
      "False     False     False     \n",
      "\n",
      "False     False     False     \n",
      "\n",
      "False     False     False     \n",
      "\n",
      "False     False     False     \n",
      "\n",
      "True      False     False     \n",
      "\n",
      "False     False     False     \n",
      "\n"
     ]
    },
    {
     "data": {
      "image/png": "[encoded data removed]",
      "text/plain": [
       "<PIL.Image.Image image mode=RGB size=200x200 at 0x191023246A0>"
      ]
     },
     "execution_count": 146,
     "metadata": {},
     "output_type": "execute_result"
    }
   ],
   "source": [
    "env.playerTurn()\n",
    "env.printGridState()\n",
    "env.drawGridState()\n",
    "env.canvas"
   ]
  },
  {
   "cell_type": "code",
   "execution_count": null,
   "metadata": {
    "collapsed": true
   },
   "outputs": [],
   "source": [
    "image_size=400\n",
    "grid_size=5\n",
    "\n",
    "buffer=image_size/grid_size"
   ]
  },
  {
   "cell_type": "code",
   "execution_count": null,
   "metadata": {
    "collapsed": true
   },
   "outputs": [],
   "source": [
    "for l in range(grid_size - 1):\n",
    "    draw.line([((l+1) * buffer,0),((l+1) * buffer),image_size],fill=0)\n",
    "    draw.line([(0,(l+1) * buffer),(image_size,(l+1) * buffer)],fill=0)"
   ]
  },
  {
   "cell_type": "code",
   "execution_count": null,
   "metadata": {
    "collapsed": true
   },
   "outputs": [],
   "source": [
    "player = gameObj(\"Player\",(0,0),None)\n",
    "grid = np.array((grid_size, grid_size), dtype=gameObj)"
   ]
  },
  {
   "cell_type": "code",
   "execution_count": null,
   "metadata": {
    "collapsed": true
   },
   "outputs": [],
   "source": [
    "#user_bots=4\n",
    "#enemy_bots = user_bots-1\n",
    "user_bots=3\n",
    "grid_length = (user_bots*2)\n",
    "grid_width = user_bots"
   ]
  },
  {
   "cell_type": "code",
   "execution_count": null,
   "metadata": {
    "collapsed": true
   },
   "outputs": [],
   "source": [
    "#This sets the object grid, which contains the name, coordinates,and reward of each game object (enemy, player, goal, or space)\n",
    "object_grid=[[gameObj(\"Space\",[j,i],0,False) for j in range(grid_width)] for i in range(grid_length)]\n",
    "#For iterating through for loop, the [][] and gameObj(coor) should be reversed. For loop is row, col, coor is x,y\n",
    "#Fill in the goal which is always placed on the top row\n",
    "for i in range(grid_width):\n",
    "    object_grid[0][i]=gameObj(\"Goal\",(i,0),1,False)\n",
    "#Fill grid with enemies, switch variable used for randomness in spawning of enemies\n",
    "switch=random.randint(0,1)\n",
    "for i in range(grid_width-1):\n",
    "    object_grid[i+1][i+switch]=gameObj(\"Enemy\",(i+switch,i+1),-1,False)\n",
    "#Setting up player, using random number to decide who has the ball\n",
    "receive_ball=random.randint(0,grid_width-1)\n",
    "has_ball=False\n",
    "for i in range(grid_width):\n",
    "    if i == receive_ball:\n",
    "        has_ball=True\n",
    "    object_grid[grid_length-1][i]=gameObj(\"Player\",(i,grid_length-1),0,has_ball)\n",
    "    has_ball=False\n"
   ]
  },
  {
   "cell_type": "code",
   "execution_count": null,
   "metadata": {
    "collapsed": true
   },
   "outputs": [],
   "source": [
    "row=\"\"\n",
    "for i in range(grid_length):\n",
    "    for s in object_grid[i]:\n",
    "        row=row+ '{:10}'.format(s.has_ball)\n",
    "    print(row)\n",
    "    print(\"\")\n",
    "    row=\"\""
   ]
  },
  {
   "cell_type": "code",
   "execution_count": null,
   "metadata": {
    "collapsed": true
   },
   "outputs": [],
   "source": []
  }
 ],
 "metadata": {
  "kernelspec": {
   "display_name": "Python 3",
   "language": "python",
   "name": "python3"
  },
  "language_info": {
   "codemirror_mode": {
    "name": "ipython",
    "version": 3
   },
   "file_extension": ".py",
   "mimetype": "text/x-python",
   "name": "python",
   "nbconvert_exporter": "python",
   "pygments_lexer": "ipython3",
   "version": "3.6.1"
  }
 },
 "nbformat": 4,
 "nbformat_minor": 2
}
